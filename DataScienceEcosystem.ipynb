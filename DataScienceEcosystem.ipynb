{
 "cells": [
  {
   "cell_type": "markdown",
   "id": "61b1d8d2-d786-4f55-b4c8-4172983f55ad",
   "metadata": {},
   "source": [
    "# Data Science Tools and Ecosystem"
   ]
  },
  {
   "cell_type": "markdown",
   "id": "df25d76c-d4dd-42fd-9f19-4d0a389a81ba",
   "metadata": {},
   "source": [
    "### In this notebook, Data Science Tools and Ecosystem are summarized."
   ]
  },
  {
   "cell_type": "markdown",
   "id": "aa4e995f-9619-43e3-bdb2-4b00aaa65c56",
   "metadata": {},
   "source": [
    "**Objectives:**\n",
    "+ List popular languages for Data Science\n",
    "+ List commonly used libraries\n",
    "+ Data Science tools\n",
    "+ Examples of evaluating arithmetic expressions in Python"
   ]
  },
  {
   "cell_type": "markdown",
   "id": "aad4ba36-cab6-416b-873e-0f55aa131c99",
   "metadata": {},
   "source": [
    "Some of the popular languages that Data Scientists use are:\n",
    "1. R\n",
    "2. Python\n",
    "3. Julia"
   ]
  },
  {
   "cell_type": "markdown",
   "id": "87874983-827c-48a5-9092-3e5829c0ea93",
   "metadata": {},
   "source": [
    "Some of the commonly used libraries used by Data Scientists include:\n",
    "1. Pandas\n",
    "2. NumPy\n",
    "3. \r\n",
    "Matplotl\n",
    "4. .\r\n",
    "Scikit-Le .."
   ]
  },
  {
   "cell_type": "markdown",
   "id": "35823316-a3a3-43d7-8a8a-9430cce32f22",
   "metadata": {},
   "source": [
    "|Data Science Tools|\n",
    "|------------------|\n",
    "|RStudio  | \n",
    "|Jupyter Notebook |\n",
    "|Visual Studio |\n",
    "|Spyder |"
   ]
  },
  {
   "cell_type": "markdown",
   "id": "d41880df-436d-4d4a-8f93-e047854eb9bf",
   "metadata": {},
   "source": [
    "### Below are a few examples of evaluating arithmetic expressions in Python"
   ]
  },
  {
   "cell_type": "code",
   "execution_count": 30,
   "id": "69676d1f-1814-40d4-b7b8-25452fdc59fd",
   "metadata": {},
   "outputs": [
    {
     "data": {
      "text/plain": [
       "17"
      ]
     },
     "execution_count": 30,
     "metadata": {},
     "output_type": "execute_result"
    }
   ],
   "source": [
    "# This a simple arithmetic expression to mutiply then add integers\n",
    "(3*4)+5"
   ]
  },
  {
   "cell_type": "code",
   "execution_count": 40,
   "id": "6a30db7c-6ac9-46d4-bbe0-ce9103efd6f7",
   "metadata": {},
   "outputs": [
    {
     "name": "stdout",
     "output_type": "stream",
     "text": [
      "200 minutes to hours =   3.3\n"
     ]
    }
   ],
   "source": [
    "# This will convert 200 minutes to hours by diving by 60\n",
    "minutos = 200\n",
    "horas = round(minutos/60, 1)\n",
    "print(\"200 minutes to hours =  \", horas)"
   ]
  },
  {
   "cell_type": "markdown",
   "id": "7bbc7d5a-394e-4878-aa07-9ccbd3b10168",
   "metadata": {},
   "source": [
    "## Author \n",
    "Carmen Ramos"
   ]
  },
  {
   "cell_type": "code",
   "execution_count": null,
   "id": "a439a7db-d51d-478b-b7f4-b45a179786f1",
   "metadata": {},
   "outputs": [],
   "source": []
  }
 ],
 "metadata": {
  "kernelspec": {
   "display_name": "Python 3 (ipykernel)",
   "language": "python",
   "name": "python3"
  },
  "language_info": {
   "codemirror_mode": {
    "name": "ipython",
    "version": 3
   },
   "file_extension": ".py",
   "mimetype": "text/x-python",
   "name": "python",
   "nbconvert_exporter": "python",
   "pygments_lexer": "ipython3",
   "version": "3.12.4"
  }
 },
 "nbformat": 4,
 "nbformat_minor": 5
}
